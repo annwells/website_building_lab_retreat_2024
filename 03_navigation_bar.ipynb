{
  "cells": [
    {
      "cell_type": "raw",
      "metadata": {},
      "source": [
        "---\n",
        "title: \"Setting up the navigation bar\"\n",
        "lightbox: true\n",
        "sidebar: tutorial\n",
        "format:\n",
        "  html:\n",
        "    code-tools: \n",
        "      source: true\n",
        "      toggle: true\n",
        "    code-fold: true\n",
        "---"
      ],
      "id": "130a3b9a"
    },
    {
      "cell_type": "markdown",
      "metadata": {},
      "source": [
        "The navigation bar is the main location where\n",
        "\n",
        "![](_quarto_yaml.png)\n",
        "\n",
        "\n",
        "\n",
        "```{ymal}\n",
        "project:\n",
        "  type: website\n",
        "\n",
        "website:\n",
        "  title: \"Palmer Penguins\"\n",
        "  page-navigation: true\n",
        "  page-footer:\n",
        "      center: |\n",
        "        ![](palmerpenguins.png){width=20%}\n",
        "      right: Palmer Penguins adapted by Ann Wells\n",
        "  navbar:\n",
        "    background:  \"#ceb6db\" #\"#d1dbe8\" #\"#013377\"\n",
        "    logo: JAX_LOGO_no_words.png\n",
        "    left:\n",
        "      - text: \"Home\"\n",
        "        file: index.qmd\n",
        "      - text: \"Who are the penguins?\"\n",
        "        href: 01_who_are_the_penguins.qmd\n",
        "      - text: \"Exploring Factors\"\n",
        "        href: 02_Factors.qmd\n",
        "      - text: \"Exploring Scatterplots\"\n",
        "        href: 03_scatterplots.qmd\n",
        "      - text: \"Exploring Correlations\"\n",
        "        href: 04_correlations.qmd\n",
        "      - text: \"Exploring Distributions\"\n",
        "        href: 05_distributions.qmd\n",
        "      - text: \"References\"\n",
        "        href: 10_references.qmd\n",
        "\n",
        "\n",
        "format:\n",
        "  html:\n",
        "    theme: cerulean\n",
        "    highlight-style: textmate\n",
        "    css: styles.css\n",
        "    toc: true\n",
        "    \n",
        "\n",
        "editor: visual\n",
        "```"
      ],
      "id": "fda59e67"
    }
  ],
  "metadata": {
    "kernelspec": {
      "display_name": "Python 3",
      "language": "python",
      "name": "python3"
    }
  },
  "nbformat": 4,
  "nbformat_minor": 5
}