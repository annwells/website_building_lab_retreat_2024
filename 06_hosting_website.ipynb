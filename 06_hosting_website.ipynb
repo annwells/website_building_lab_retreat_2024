{
  "cells": [
    {
      "cell_type": "raw",
      "metadata": {},
      "source": [
        "---\n",
        "title: \"Quarto vs. Rmarkdown\"\n",
        "lightbox: true\n",
        "sidebar: tutorial\n",
        "format:\n",
        "  html:\n",
        "    code-tools: \n",
        "      source: true\n",
        "      toggle: true\n",
        "    code-fold: true\n",
        "---"
      ],
      "id": "65b79304"
    },
    {
      "cell_type": "markdown",
      "metadata": {},
      "source": [
        "## Hosting on Carterdev server\n",
        "\n",
        "Hosting on the carterdev server is great for internal projects but requires vpn access. To do this follow these steps:\n",
        "\n",
        "1. Go to terminal in your RStudio or VScode IDE.\n",
        "2. Copy over _site folder using this command:\n",
        "\n",
        "```{bash}\n",
        "scp -r _site shortname@carterdev.jax.org:/srv/shiny-server/foldername\n",
        "```\n",
        "\n",
        "\n",
        "\n",
        "3. push enter and you will be asked to enter your password. This is your JAX password.\n",
        "\n",
        "4. Files should start copying over and you're done!\n",
        "\n",
        "To access the site you will use the following url:\n",
        "\n",
        "http://carterdev:3838/foldername/_site\n",
        "\n",
        "## Hosting on Goggle Cloud Platform\n",
        "\n",
        "Hosting on the GCP will require a service ticket, which can be accessed [here](https://jax.service-now.com/jax?id=sc_cat_item&sys_id=3197986887e83d90320ada473cbb356b&sysparm_category=ac87b60087acb990320ada473cbb35c1)\n",
        "\n",
        "To request a new project you will need these items:\n",
        "1. Research project name (they list the naming convention on the request).\n",
        "2. Billing information\n",
        "3. Environment (Development, staging, production) \n",
        "::: {.callout-note}\n",
        "This can be discussed with RIT before submission, if it's not clear which to choose.\n",
        ":::\n",
        "\n",
        "4. User Access \n",
        "::: {.callout-note}\n",
        "This is where you will list everyone that you want to have access to your project. The people listed here also need to have a GCP account.\n",
        ":::\n",
        "\n",
        "There are two avenues for GCP hosted site: public and private.\n",
        "\n",
        "**For public sites:**\n",
        "\n",
        "**For private sites:**"
      ],
      "id": "e97a1d3e"
    }
  ],
  "metadata": {
    "kernelspec": {
      "display_name": "Python 3",
      "language": "python",
      "name": "python3"
    }
  },
  "nbformat": 4,
  "nbformat_minor": 5
}