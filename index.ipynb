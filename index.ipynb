{
  "cells": [
    {
      "cell_type": "raw",
      "metadata": {},
      "source": [
        "---\n",
        "title: \"Building websites for Data Dissemination, Reproducibility, and Transparency\"\n",
        "format:\n",
        "  html:\n",
        "    code-tools: \n",
        "      source: true\n",
        "      toggle: true\n",
        "---"
      ],
      "id": "a054a866"
    },
    {
      "cell_type": "markdown",
      "metadata": {},
      "source": [
        "## Requirements for tutorial as of 5-7-24\n",
        "\n",
        "### For RStudio users\n",
        "\n",
        "1. Make sure that you have Quarto version \\>1.4. \n",
        "\n",
        "2. If you do not then download the latest version [here](https://quarto.org/docs/get-started/)\n",
        "\n",
        "3. Restart RStudio\n",
        "\n",
        "4. Check the quarto version in the terminal with the following command:\n",
        "\n",
        "\n",
        "```{bash}\n",
        "quarto --version\n",
        "```\n",
        "\n",
        "\n",
        "### For Visual Studio Code\n",
        "\n",
        "\n",
        "1. Download the quarto extension [here](https://marketplace.visualstudio.com/items?itemName=quarto.quarto).\n",
        "\n",
        "2. Open Visual Studio Code\n",
        "\n",
        "3. check the Quarto version in the terminal with the following command:\n",
        "\n",
        "\n",
        "```{bash}\n",
        "quarto --version\n",
        "```"
      ],
      "id": "c2f46039"
    }
  ],
  "metadata": {
    "kernelspec": {
      "display_name": "Python 3",
      "language": "python",
      "name": "python3"
    }
  },
  "nbformat": 4,
  "nbformat_minor": 5
}